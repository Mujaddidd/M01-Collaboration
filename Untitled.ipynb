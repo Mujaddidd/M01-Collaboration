{
 "cells": [
  {
   "cell_type": "code",
   "execution_count": 8,
   "id": "28752300",
   "metadata": {
    "scrolled": true
   },
   "outputs": [
    {
     "name": "stdout",
     "output_type": "stream",
     "text": [
      "Number of seconds in an hour: 3600\n",
      "Number of seconds in an day: 86400\n",
      "24.0\n",
      "24\n"
     ]
    }
   ],
   "source": [
    "seconds_in_minute = 60\n",
    "minutes_in_hour = 60\n",
    "\n",
    "seconds_per_hour = seconds_in_minute * minutes_in_hour\n",
    "\n",
    "print(\"Number of seconds in an hour:\", seconds_per_hour)\n",
    "\n",
    "seconds_per_day = seconds_per_hour * 24\n",
    "\n",
    "print(\"Number of seconds in an day:\", seconds_per_day)\n",
    "\n",
    "sh = seconds_per_day / seconds_per_hour\n",
    "\n",
    "print(sh)\n",
    "\n",
    "shh = seconds_per_day // seconds_per_hour\n",
    "\n",
    "print(shh)"
   ]
  },
  {
   "cell_type": "code",
   "execution_count": null,
   "id": "9d4b78ee",
   "metadata": {},
   "outputs": [],
   "source": []
  }
 ],
 "metadata": {
  "kernelspec": {
   "display_name": "Python 3 (ipykernel)",
   "language": "python",
   "name": "python3"
  },
  "language_info": {
   "codemirror_mode": {
    "name": "ipython",
    "version": 3
   },
   "file_extension": ".py",
   "mimetype": "text/x-python",
   "name": "python",
   "nbconvert_exporter": "python",
   "pygments_lexer": "ipython3",
   "version": "3.10.9"
  }
 },
 "nbformat": 4,
 "nbformat_minor": 5
}
